{
 "cells": [
  {
   "cell_type": "code",
   "execution_count": 1,
   "metadata": {},
   "outputs": [],
   "source": [
    "import numpy as np\n",
    "import matplotlib.pyplot as plt\n",
    "from tqdm.auto import tqdm\n",
    "import sys\n",
    "\n",
    "sys.path.append('..')\n",
    "\n",
    "from benchmark.himmelblau import Himmelblau\n",
    "from benchmark.holder import Holder\n",
    "from benchmark.rosenbrock import Rosenbrock\n",
    "from benchmark.michalewicz import Michalewicz\n",
    "\n",
    "from optims.SBS import SBS"
   ]
  },
  {
   "cell_type": "code",
   "execution_count": 2,
   "metadata": {},
   "outputs": [],
   "source": [
    "def create_bounds(min, max, dim):\n",
    "    bounds = [(min, max) for _ in range(dim)]\n",
    "    return np.array(bounds)"
   ]
  },
  {
   "cell_type": "code",
   "execution_count": 3,
   "metadata": {},
   "outputs": [],
   "source": [
    "fs = {\n",
    "  \"Himmelblau\": [Himmelblau(), create_bounds(-4, 4, 2)],\n",
    "  \"Holder Table\": [Holder(), create_bounds(-10, 10, 2)],\n",
    "  \"Michalewicz\": [Michalewicz(), create_bounds(0, np.pi, 2)],\n",
    "  \"Rosenbrock\": [Rosenbrock(), create_bounds(-3, 3, 2)],\n",
    "}\n",
    "\n",
    "evals = np.linspace(300, 1_000_000, 10, dtype=int)\n",
    "\n",
    "def exp(sigma):\n",
    "  sbs_results = {}\n",
    "  sbs_noisy_results = {}\n",
    "\n",
    "  for f_name in tqdm(fs.keys()):\n",
    "    h = fs[f_name][0]\n",
    "    bounds = fs[f_name][1]\n",
    "\n",
    "    noisy_h = lambda x: h(x) + np.random.normal(0, sigma)\n",
    "\n",
    "    sbs_results_tmp = []\n",
    "    sbs_noisy_results_tmp = []\n",
    "    for num_evals in evals:\n",
    "      svgd_iter = 300\n",
    "      n_particles = max(num_evals // (300 * 3), 1)\n",
    "      sbs = SBS(\n",
    "        bounds,\n",
    "        n_particles=n_particles,\n",
    "        k_iter=[10_000],\n",
    "        svgd_iter=svgd_iter,\n",
    "        sigma=1 / n_particles**2,\n",
    "        lr=0.2\n",
    "      )\n",
    "      opt = sbs.optimize(h)[0][1]\n",
    "      sbs_results_tmp.append(np.abs(h.min - opt))\n",
    "\n",
    "      noisy_opt = sbs.optimize(noisy_h)[0][1]\n",
    "      sbs_noisy_results_tmp.append(np.abs(h.min - noisy_opt))\n",
    "      \n",
    "    sbs_results[f_name] = sbs_results_tmp\n",
    "    sbs_noisy_results[f_name] = sbs_noisy_results_tmp\n",
    "\n",
    "  return sbs_results, sbs_noisy_results"
   ]
  },
  {
   "cell_type": "code",
   "execution_count": 4,
   "metadata": {},
   "outputs": [
    {
     "data": {
      "application/vnd.jupyter.widget-view+json": {
       "model_id": "c6d1507464ea4606b402ac1739630385",
       "version_major": 2,
       "version_minor": 0
      },
      "text/plain": [
       "  0%|          | 0/4 [00:00<?, ?it/s]"
      ]
     },
     "metadata": {},
     "output_type": "display_data"
    }
   ],
   "source": [
    "sigma = 0.1\n",
    "\n",
    "sbs_results, sbs_noisy_results = exp(sigma)"
   ]
  },
  {
   "cell_type": "code",
   "execution_count": 5,
   "metadata": {},
   "outputs": [
    {
     "data": {
      "text/plain": [
       "<Figure size 640x480 with 0 Axes>"
      ]
     },
     "metadata": {},
     "output_type": "display_data"
    }
   ],
   "source": [
    "for f_name in fs.keys():\n",
    "  plt.plot(evals, sbs_results[f_name], label=\"vanilla\")\n",
    "  plt.plot(evals, sbs_noisy_results[f_name], label=\"noisy\")\n",
    "  plt.xlabel(\"Number of evaluations\")\n",
    "  plt.ylabel(\"log distance to minimum\")\n",
    "  plt.yscale(\"log\")\n",
    "  plt.title(f\"Robustness of SBS on noisy {f_name} $\\sigma = 0.1$\")\n",
    "  plt.legend()\n",
    "  plt.savefig(f\"fig/noisy/noisy_01_sbs_{f_name}.png\", bbox_inches=\"tight\")\n",
    "  plt.clf()"
   ]
  },
  {
   "cell_type": "code",
   "execution_count": 6,
   "metadata": {},
   "outputs": [
    {
     "data": {
      "application/vnd.jupyter.widget-view+json": {
       "model_id": "ee7a436a3cc64f77990bd9db4b6d943d",
       "version_major": 2,
       "version_minor": 0
      },
      "text/plain": [
       "  0%|          | 0/4 [00:00<?, ?it/s]"
      ]
     },
     "metadata": {},
     "output_type": "display_data"
    }
   ],
   "source": [
    "sigma = 0.01\n",
    "\n",
    "sbs_results, sbs_noisy_results = exp(sigma)"
   ]
  },
  {
   "cell_type": "code",
   "execution_count": 7,
   "metadata": {},
   "outputs": [
    {
     "data": {
      "text/plain": [
       "<Figure size 640x480 with 0 Axes>"
      ]
     },
     "metadata": {},
     "output_type": "display_data"
    }
   ],
   "source": [
    "for f_name in fs.keys():\n",
    "  plt.plot(evals, sbs_results[f_name], label=\"vanilla\")\n",
    "  plt.plot(evals, sbs_noisy_results[f_name], label=\"noisy\")\n",
    "  plt.xlabel(\"Number of evaluations\")\n",
    "  plt.ylabel(\"log distance to minimum\")\n",
    "  plt.yscale(\"log\")\n",
    "  plt.title(f\"Robustness of SBS on noisy {f_name} $\\sigma = 0.01$\")\n",
    "  plt.legend()\n",
    "  plt.savefig(f\"fig/noisy/noisy_001_sbs_{f_name}.png\", bbox_inches=\"tight\")\n",
    "  plt.clf()"
   ]
  }
 ],
 "metadata": {
  "kernelspec": {
   "display_name": "ML",
   "language": "python",
   "name": "python3"
  },
  "language_info": {
   "codemirror_mode": {
    "name": "ipython",
    "version": 3
   },
   "file_extension": ".py",
   "mimetype": "text/x-python",
   "name": "python",
   "nbconvert_exporter": "python",
   "pygments_lexer": "ipython3",
   "version": "3.11.5"
  }
 },
 "nbformat": 4,
 "nbformat_minor": 2
}
