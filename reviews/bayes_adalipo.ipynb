{
 "cells": [
  {
   "cell_type": "code",
   "execution_count": 3,
   "metadata": {},
   "outputs": [
    {
     "name": "stderr",
     "output_type": "stream",
     "text": [
      "/home/gserre/.local/lib/python3.12/site-packages/tqdm/auto.py:21: TqdmWarning: IProgress not found. Please update jupyter and ipywidgets. See https://ipywidgets.readthedocs.io/en/stable/user_install.html\n",
      "  from .autonotebook import tqdm as notebook_tqdm\n"
     ]
    }
   ],
   "source": [
    "import numpy as np\n",
    "import matplotlib.pyplot as plt\n",
    "from tqdm.auto import tqdm\n",
    "import sys\n",
    "\n",
    "sys.path.append('..')\n",
    "\n",
    "from benchmark.himmelblau import Himmelblau\n",
    "from benchmark.holder import Holder\n",
    "from benchmark.rosenbrock import Rosenbrock\n",
    "from benchmark.levy import Levy\n",
    "\n",
    "from optims.BayesOpt import BayesOpt\n",
    "from optims.AdaLIPO_E import AdaLIPO_E\n",
    "from optims.SBS import SBS\n",
    "from optims.N_CMA_ES import CMA_ES"
   ]
  },
  {
   "cell_type": "code",
   "execution_count": 4,
   "metadata": {},
   "outputs": [],
   "source": [
    "def create_bounds(min, max, dim):\n",
    "    bounds = [(min, max) for _ in range(dim)]\n",
    "    return np.array(bounds)"
   ]
  },
  {
   "cell_type": "code",
   "execution_count": 5,
   "metadata": {},
   "outputs": [],
   "source": [
    "def time_it (func, *args):\n",
    "    import time\n",
    "    start = time.time()\n",
    "    res = func(*args)\n",
    "    end = time.time()\n",
    "    return res, end-start"
   ]
  },
  {
   "cell_type": "code",
   "execution_count": 6,
   "metadata": {},
   "outputs": [],
   "source": [
    "fs = {\n",
    "  \"Himmelblau\": [Himmelblau(), create_bounds(-4, 4, 2)],\n",
    "  #\"Holder Table\": [Holder(), create_bounds(-10, 10, 2)],\n",
    "  \"Levy\": [Levy(), create_bounds(-10, 10, 2)],\n",
    "  #\"Rosenbrock\": [Rosenbrock(), create_bounds(-3, 3, 2)],\n",
    "}"
   ]
  },
  {
   "cell_type": "code",
   "execution_count": 7,
   "metadata": {},
   "outputs": [
    {
     "name": "stderr",
     "output_type": "stream",
     "text": [
      "100%|██████████| 2/2 [03:06<00:00, 93.45s/it] \n"
     ]
    }
   ],
   "source": [
    "evals = np.linspace(5, 150, 10, dtype=int)\n",
    "\n",
    "bayes_results = {}\n",
    "bayes_times = {}\n",
    "\n",
    "for f_name in tqdm(fs.keys()):\n",
    "  h = fs[f_name][0]\n",
    "  bounds = fs[f_name][1]\n",
    "\n",
    "  bayes_results_tmp = []\n",
    "  bayes_times_tmp = []\n",
    "  for num_evals in evals:\n",
    "    bayes = BayesOpt(bounds, n_iter=num_evals)\n",
    "    res, time = time_it(bayes.optimize, h)\n",
    "    opt = res[0][1]\n",
    "    bayes_results_tmp.append(np.abs(h.min - opt))\n",
    "    bayes_times_tmp.append(time)\n",
    "    \n",
    "  bayes_results[f_name] = bayes_results_tmp\n",
    "  bayes_times[f_name] = bayes_times_tmp\n"
   ]
  },
  {
   "cell_type": "code",
   "execution_count": null,
   "metadata": {},
   "outputs": [
    {
     "data": {
      "text/plain": [
       "<Figure size 640x480 with 0 Axes>"
      ]
     },
     "metadata": {},
     "output_type": "display_data"
    }
   ],
   "source": [
    "for f_name in fs.keys():\n",
    "  plt.plot(evals, bayes_results[f_name])\n",
    "  plt.yscale(\"log\")\n",
    "  plt.xlabel(\"Number of evaluations\")\n",
    "  plt.ylabel(\"log distance to minimum\")\n",
    "  plt.title(f\"Convergence of BayesOpt on {f_name}\")\n",
    "  plt.savefig(f\"fig/perf/perf_vs_evals_bayes_{f_name}.png\", bbox_inches=\"tight\", dpi=300)\n",
    "  plt.clf()"
   ]
  },
  {
   "cell_type": "code",
   "execution_count": null,
   "metadata": {},
   "outputs": [
    {
     "data": {
      "text/plain": [
       "<Figure size 640x480 with 0 Axes>"
      ]
     },
     "metadata": {},
     "output_type": "display_data"
    }
   ],
   "source": [
    "for f_name in fs.keys():\n",
    "  plt.plot(evals, bayes_times[f_name])\n",
    "  plt.xlabel(\"Number of evaluations\")\n",
    "  plt.ylabel(\"time (s)\")\n",
    "  plt.title(f\"Time taken by BayesOpt on {f_name}\")\n",
    "  plt.savefig(f\"fig/time/time_vs_evals_bayes_{f_name}.png\", bbox_inches=\"tight\", dpi=300)\n",
    "  plt.clf()"
   ]
  },
  {
   "cell_type": "code",
   "execution_count": 8,
   "metadata": {},
   "outputs": [
    {
     "name": "stderr",
     "output_type": "stream",
     "text": [
      "100%|██████████| 2/2 [02:06<00:00, 63.10s/it]\n"
     ]
    }
   ],
   "source": [
    "evals = np.linspace(5, 2000, 10, dtype=int)\n",
    "\n",
    "ada_results = {}\n",
    "ada_times = {}\n",
    "\n",
    "for f_name in tqdm(fs.keys()):\n",
    "  h = fs[f_name][0]\n",
    "  bounds = fs[f_name][1]\n",
    "\n",
    "  ada_results_tmp = []\n",
    "  ada_times_tmp = []\n",
    "  for num_evals in evals:\n",
    "    ada = AdaLIPO_E(bounds, max_evals=num_evals)\n",
    "    res, time = time_it(ada.optimize, h)\n",
    "    opt = res[0][1]\n",
    "    ada_results_tmp.append(np.abs(h.min - opt))\n",
    "    ada_times_tmp.append(time)\n",
    "    \n",
    "  ada_results[f_name] = ada_results_tmp\n",
    "  ada_times[f_name] = ada_times_tmp\n"
   ]
  },
  {
   "cell_type": "code",
   "execution_count": null,
   "metadata": {},
   "outputs": [
    {
     "data": {
      "text/plain": [
       "<Figure size 640x480 with 0 Axes>"
      ]
     },
     "metadata": {},
     "output_type": "display_data"
    }
   ],
   "source": [
    "for f_name in fs.keys():\n",
    "  plt.plot(evals, ada_results[f_name])\n",
    "  plt.yscale(\"log\")\n",
    "  plt.xlabel(\"Number of evaluations\")\n",
    "  plt.ylabel(\"log distance to minimum\")\n",
    "  plt.title(f\"Convergence of AdaLIPO on {f_name}\")\n",
    "  plt.savefig(f\"fig/perf/perf_vs_evals_ada_{f_name}.png\", bbox_inches=\"tight\", dpi=300)\n",
    "  plt.clf()"
   ]
  },
  {
   "cell_type": "code",
   "execution_count": null,
   "metadata": {},
   "outputs": [
    {
     "data": {
      "text/plain": [
       "<Figure size 640x480 with 0 Axes>"
      ]
     },
     "metadata": {},
     "output_type": "display_data"
    }
   ],
   "source": [
    "for f_name in fs.keys():\n",
    "  plt.plot(evals, ada_times[f_name])\n",
    "  plt.xlabel(\"Number of evaluations\")\n",
    "  plt.ylabel(\"time (s)\")\n",
    "  plt.title(f\"Time taken by AdaLIPO on {f_name}\")\n",
    "  plt.savefig(f\"fig/time/time_vs_evals_ada_{f_name}.png\", bbox_inches=\"tight\", dpi=300)\n",
    "  plt.clf()"
   ]
  },
  {
   "cell_type": "code",
   "execution_count": 9,
   "metadata": {},
   "outputs": [
    {
     "name": "stderr",
     "output_type": "stream",
     "text": [
      "100%|██████████| 2/2 [00:00<00:00,  3.11it/s]\n"
     ]
    }
   ],
   "source": [
    "evals = np.linspace(5, 2000, 10, dtype=int)\n",
    "\n",
    "cma_results = {}\n",
    "cma_times = {}\n",
    "\n",
    "for f_name in tqdm(fs.keys()):\n",
    "  h = fs[f_name][0]\n",
    "  bounds = fs[f_name][1]\n",
    "\n",
    "  cma_results_tmp = []\n",
    "  cma_times_tmp = []\n",
    "  for num_evals in evals:\n",
    "    m_0 = np.random.uniform(bounds[:, 0], bounds[:, 1])\n",
    "    cma = CMA_ES(bounds, m_0, max_evals=num_evals)\n",
    "    res, time = time_it(cma.optimize, h)\n",
    "    opt = res[0][1]\n",
    "    cma_results_tmp.append(np.abs(h.min - opt))\n",
    "    cma_times_tmp.append(time)\n",
    "    \n",
    "  cma_results[f_name] = cma_results_tmp\n",
    "  cma_times[f_name] = cma_times_tmp\n"
   ]
  },
  {
   "cell_type": "code",
   "execution_count": 10,
   "metadata": {},
   "outputs": [],
   "source": [
    "def eval_to_sbs_params(n_eval):\n",
    "  if n_eval < 10:\n",
    "    return (1, 10)\n",
    "  elif n_eval // 10 <= 100:\n",
    "    return (n_eval // 10, 10)\n",
    "  else:\n",
    "    return (100, n_eval // 100)\n",
    "\n",
    "def sbs_(bounds, n_eval):\n",
    "  n, m = eval_to_sbs_params(n_eval)\n",
    "  sbs = SBS(bounds, n, [10_000], m)\n",
    "  return sbs\n"
   ]
  },
  {
   "cell_type": "code",
   "execution_count": 11,
   "metadata": {},
   "outputs": [
    {
     "name": "stderr",
     "output_type": "stream",
     "text": [
      "100%|██████████| 2/2 [00:00<00:00,  5.43it/s]\n"
     ]
    }
   ],
   "source": [
    "evals = np.linspace(5, 2000, 10, dtype=int)\n",
    "\n",
    "sbs_results = {}\n",
    "sbs_times = {}\n",
    "\n",
    "for f_name in tqdm(fs.keys()):\n",
    "  h = fs[f_name][0]\n",
    "  bounds = fs[f_name][1]\n",
    "\n",
    "  sbs_results_tmp = []\n",
    "  sbs_times_tmp = []\n",
    "  for num_evals in evals:\n",
    "    sbs = sbs_(bounds, num_evals)\n",
    "    res, time = time_it(sbs.optimize, h)\n",
    "    opt = res[0][1]\n",
    "    sbs_results_tmp.append(np.abs(h.min - opt))\n",
    "    sbs_times_tmp.append(time)\n",
    "    \n",
    "  sbs_results[f_name] = sbs_results_tmp\n",
    "  sbs_times[f_name] = sbs_times_tmp"
   ]
  },
  {
   "cell_type": "code",
   "execution_count": null,
   "metadata": {},
   "outputs": [
    {
     "data": {
      "image/png": "[encoded data removed]",
      "text/plain": [
       "<Figure size 640x480 with 1 Axes>"
      ]
     },
     "metadata": {},
     "output_type": "display_data"
    }
   ],
   "source": [
    "evals = np.linspace(5, 2000, 10, dtype=int)\n",
    "plt.rcParams.update({'font.size': 15})\n",
    "plt.semilogx(evals, ada_times[\"Himmelblau\"], c=\"black\", label=\"AdaLIPO\")\n",
    "plt.semilogx(evals, cma_times[\"Himmelblau\"], c=\"red\", label=\"CMA-ES\")\n",
    "plt.semilogx(evals, sbs_times[\"Himmelblau\"], c=\"skyblue\", label=\"SBS\")\n",
    "evals = np.linspace(5, 100, 10, dtype=int)\n",
    "plt.semilogx(evals, bayes_times[\"Himmelblau\"], c=\"plum\", label=\"BayesOpt\")\n",
    "plt.xlabel(\"Number of evaluations (log scale)\")\n",
    "plt.ylabel(\"time (s)\")\n",
    "plt.title(f\"Himmelblau\")\n",
    "plt.legend()\n",
    "plt.savefig(\"time_vs_evals_Himmelblau.pdf\", bbox_inches=\"tight\")"
   ]
  },
  {
   "cell_type": "code",
   "execution_count": null,
   "metadata": {},
   "outputs": [
    {
     "data": {
      "image/png": "[encoded data removed]",
      "text/plain": [
       "<Figure size 640x480 with 1 Axes>"
      ]
     },
     "metadata": {},
     "output_type": "display_data"
    }
   ],
   "source": [
    "evals = np.linspace(5, 6000, 10, dtype=int)\n",
    "plt.rcParams.update({'font.size': 15})\n",
    "plt.semilogx(evals, ada_times[\"Levy\"], c=\"black\", label=\"AdaLIPO\")\n",
    "plt.semilogx(evals, cma_times[\"Levy\"], c=\"red\", label=\"CMA-ES\")\n",
    "plt.semilogx(evals, sbs_times[\"Levy\"], c=\"skyblue\", label=\"SBS\")\n",
    "evals = np.linspace(5, 100, 10, dtype=int)\n",
    "plt.semilogx(evals, bayes_times[\"Levy\"], c=\"plum\", label=\"BayesOpt\")\n",
    "plt.xlabel(\"Number of evaluations (log scale)\")\n",
    "plt.ylabel(\"time (s)\")\n",
    "plt.title(f\"Levy\")\n",
    "plt.legend()\n",
    "plt.savefig(\"time_vs_evals_Levy.pdf\", bbox_inches=\"tight\")"
   ]
  },
  {
   "cell_type": "code",
   "execution_count": null,
   "metadata": {},
   "outputs": [
    {
     "name": "stderr",
     "output_type": "stream",
     "text": [
      "100%|██████████| 2/2 [01:24<00:00, 42.47s/it]\n"
     ]
    }
   ],
   "source": [
    "evals = np.linspace(300, 1_000_000, 10, dtype=int)\n",
    "\n",
    "sbs_times = {}\n",
    "\n",
    "for f_name in tqdm(fs.keys()):\n",
    "  h = fs[f_name][0]\n",
    "  bounds = fs[f_name][1]\n",
    "\n",
    "  sbs_times_tmp = []\n",
    "  for num_evals in evals:\n",
    "    svgd_iter = 300\n",
    "    n_particles = max(num_evals // (300 * 3), 1)\n",
    "    sbs = SBS(\n",
    "      bounds,\n",
    "      n_particles=n_particles,\n",
    "      k_iter=[10_000],\n",
    "      svgd_iter=svgd_iter,\n",
    "      sigma=1 / n_particles**2,\n",
    "      lr=0.2\n",
    "    )\n",
    "    res, time = time_it(sbs.optimize, h)\n",
    "    sbs_times_tmp.append(time)\n",
    "    \n",
    "  sbs_times[f_name] = sbs_times_tmp\n"
   ]
  },
  {
   "cell_type": "code",
   "execution_count": null,
   "metadata": {},
   "outputs": [
    {
     "data": {
      "text/plain": [
       "<Figure size 640x480 with 0 Axes>"
      ]
     },
     "metadata": {},
     "output_type": "display_data"
    }
   ],
   "source": [
    "for f_name in fs.keys():\n",
    "  plt.plot(evals, sbs_times[f_name])\n",
    "  plt.xlabel(\"Number of evaluations\")\n",
    "  plt.ylabel(\"time (s)\")\n",
    "  plt.title(f\"Time taken by SBS on {f_name}\")\n",
    "  plt.savefig(f\"fig/time/time_vs_evals_sbs_{f_name}.png\", bbox_inches=\"tight\", dpi=300)\n",
    "  plt.clf()"
   ]
  },
  {
   "cell_type": "code",
   "execution_count": null,
   "metadata": {},
   "outputs": [],
   "source": []
  }
 ],
 "metadata": {
  "kernelspec": {
   "display_name": "Python 3",
   "language": "python",
   "name": "python3"
  },
  "language_info": {
   "codemirror_mode": {
    "name": "ipython",
    "version": 3
   },
   "file_extension": ".py",
   "mimetype": "text/x-python",
   "name": "python",
   "nbconvert_exporter": "python",
   "pygments_lexer": "ipython3",
   "version": "3.12.7"
  }
 },
 "nbformat": 4,
 "nbformat_minor": 2
}
