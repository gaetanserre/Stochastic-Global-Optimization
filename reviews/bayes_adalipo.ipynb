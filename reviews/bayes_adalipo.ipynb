{
 "cells": [
  {
   "cell_type": "code",
   "execution_count": 1,
   "metadata": {},
   "outputs": [],
   "source": [
    "import numpy as np\n",
    "import matplotlib.pyplot as plt\n",
    "from tqdm.auto import tqdm\n",
    "import sys\n",
    "\n",
    "sys.path.append('..')\n",
    "\n",
    "from benchmark.himmelblau import Himmelblau\n",
    "from benchmark.holder import Holder\n",
    "from benchmark.rosenbrock import Rosenbrock\n",
    "from benchmark.michalewicz import Michalewicz\n",
    "\n",
    "from optims.BayesOpt import BayesOpt\n",
    "from optims.AdaLIPO_E import AdaLIPO_E\n",
    "from optims.SBS import SBS"
   ]
  },
  {
   "cell_type": "code",
   "execution_count": 2,
   "metadata": {},
   "outputs": [],
   "source": [
    "def create_bounds(min, max, dim):\n",
    "    bounds = [(min, max) for _ in range(dim)]\n",
    "    return np.array(bounds)"
   ]
  },
  {
   "cell_type": "code",
   "execution_count": 3,
   "metadata": {},
   "outputs": [],
   "source": [
    "def time_it (func, *args):\n",
    "    import time\n",
    "    start = time.time()\n",
    "    res = func(*args)\n",
    "    end = time.time()\n",
    "    return res, end-start"
   ]
  },
  {
   "cell_type": "code",
   "execution_count": 4,
   "metadata": {},
   "outputs": [],
   "source": [
    "fs = {\n",
    "  \"Himmelblau\": [Himmelblau(), create_bounds(-4, 4, 2)],\n",
    "  \"Holder Table\": [Holder(), create_bounds(-10, 10, 2)],\n",
    "  \"Michalewicz\": [Michalewicz(), create_bounds(0, np.pi, 2)],\n",
    "  \"Rosenbrock\": [Rosenbrock(), create_bounds(-3, 3, 2)],\n",
    "}\n",
    "\n",
    "evals = np.linspace(5, 100, 10, dtype=int)\n",
    "\n",
    "bayes_results = {}\n",
    "bayes_times = {}\n",
    "\n",
    "for f_name in tqdm(fs.keys()):\n",
    "  h = fs[f_name][0]\n",
    "  bounds = fs[f_name][1]\n",
    "\n",
    "  bayes_results_tmp = []\n",
    "  bayes_times_tmp = []\n",
    "  for num_evals in evals:\n",
    "    bayes = BayesOpt(bounds, n_iter=num_evals)\n",
    "    res, time = time_it(bayes.optimize, h)\n",
    "    opt = res[0][1]\n",
    "    bayes_results_tmp.append(np.abs(h.min - opt))\n",
    "    bayes_times_tmp.append(time)\n",
    "    \n",
    "  bayes_results[f_name] = bayes_results_tmp\n",
    "  bayes_times[f_name] = bayes_times_tmp\n"
   ]
  },
  {
   "cell_type": "code",
   "execution_count": null,
   "metadata": {},
   "outputs": [
    {
     "data": {
      "text/plain": [
       "<Figure size 640x480 with 0 Axes>"
      ]
     },
     "metadata": {},
     "output_type": "display_data"
    }
   ],
   "source": [
    "for f_name in fs.keys():\n",
    "  plt.plot(evals, bayes_results[f_name])\n",
    "  plt.yscale(\"log\")\n",
    "  plt.xlabel(\"Number of evaluations\")\n",
    "  plt.ylabel(\"log distance to minimum\")\n",
    "  plt.title(f\"Convergence of BayesOpt on {f_name}\")\n",
    "  plt.savefig(f\"fig/perf/perf_vs_evals_bayes_{f_name}.png\", bbox_inches=\"tight\")\n",
    "  plt.clf()"
   ]
  },
  {
   "cell_type": "code",
   "execution_count": null,
   "metadata": {},
   "outputs": [
    {
     "data": {
      "text/plain": [
       "<Figure size 640x480 with 0 Axes>"
      ]
     },
     "metadata": {},
     "output_type": "display_data"
    }
   ],
   "source": [
    "for f_name in fs.keys():\n",
    "  plt.plot(evals, bayes_times[f_name])\n",
    "  plt.xlabel(\"Number of evaluations\")\n",
    "  plt.ylabel(\"time (s)\")\n",
    "  plt.title(f\"Time taken by BayesOpt on {f_name}\")\n",
    "  plt.savefig(f\"fig/time/time_vs_evals_bayes_{f_name}.png\", bbox_inches=\"tight\")\n",
    "  plt.clf()"
   ]
  },
  {
   "cell_type": "code",
   "execution_count": null,
   "metadata": {},
   "outputs": [
    {
     "data": {
      "application/vnd.jupyter.widget-view+json": {
       "model_id": "3806617b18ca4395a1d93e51ac8fd693",
       "version_major": 2,
       "version_minor": 0
      },
      "text/plain": [
       "  0%|          | 0/4 [00:00<?, ?it/s]"
      ]
     },
     "metadata": {},
     "output_type": "display_data"
    }
   ],
   "source": [
    "evals = np.linspace(300, 2000, 10, dtype=int)\n",
    "\n",
    "ada_times = {}\n",
    "\n",
    "for f_name in tqdm(fs.keys()):\n",
    "  h = fs[f_name][0]\n",
    "  bounds = fs[f_name][1]\n",
    "\n",
    "  ada_times_tmp = []\n",
    "  for num_evals in evals:\n",
    "    ada = AdaLIPO_E(bounds, max_evals=num_evals)\n",
    "    res, time = time_it(ada.optimize, h)\n",
    "    ada_times_tmp.append(time)\n",
    "    \n",
    "  ada_times[f_name] = ada_times_tmp\n"
   ]
  },
  {
   "cell_type": "code",
   "execution_count": null,
   "metadata": {},
   "outputs": [
    {
     "data": {
      "text/plain": [
       "<Figure size 640x480 with 0 Axes>"
      ]
     },
     "metadata": {},
     "output_type": "display_data"
    }
   ],
   "source": [
    "for f_name in fs.keys():\n",
    "  plt.plot(evals, ada_times[f_name])\n",
    "  plt.xlabel(\"Number of evaluations\")\n",
    "  plt.ylabel(\"time (s)\")\n",
    "  plt.title(f\"Time taken by AdaLIPO on {f_name}\")\n",
    "  plt.savefig(f\"fig/time/time_vs_evals_ada_{f_name}.png\", bbox_inches=\"tight\")\n",
    "  plt.clf()"
   ]
  },
  {
   "cell_type": "code",
   "execution_count": null,
   "metadata": {},
   "outputs": [
    {
     "data": {
      "application/vnd.jupyter.widget-view+json": {
       "model_id": "99b326fe0db8431eb345ebdf32f278ef",
       "version_major": 2,
       "version_minor": 0
      },
      "text/plain": [
       "  0%|          | 0/4 [00:00<?, ?it/s]"
      ]
     },
     "metadata": {},
     "output_type": "display_data"
    }
   ],
   "source": [
    "evals = np.linspace(300, 1_000_000, 10, dtype=int)\n",
    "\n",
    "sbs_times = {}\n",
    "\n",
    "for f_name in tqdm(fs.keys()):\n",
    "  h = fs[f_name][0]\n",
    "  bounds = fs[f_name][1]\n",
    "\n",
    "  sbs_times_tmp = []\n",
    "  for num_evals in evals:\n",
    "    svgd_iter = 300\n",
    "    n_particles = max(num_evals // (300 * 3), 1)\n",
    "    sbs = SBS(\n",
    "      bounds,\n",
    "      n_particles=n_particles,\n",
    "      k_iter=[10_000],\n",
    "      svgd_iter=svgd_iter,\n",
    "      sigma=1 / n_particles**2,\n",
    "      lr=0.2\n",
    "    )\n",
    "    res, time = time_it(sbs.optimize, h)\n",
    "    sbs_times_tmp.append(time)\n",
    "    \n",
    "  sbs_times[f_name] = sbs_times_tmp\n"
   ]
  },
  {
   "cell_type": "code",
   "execution_count": null,
   "metadata": {},
   "outputs": [
    {
     "data": {
      "text/plain": [
       "<Figure size 640x480 with 0 Axes>"
      ]
     },
     "metadata": {},
     "output_type": "display_data"
    }
   ],
   "source": [
    "for f_name in fs.keys():\n",
    "  plt.plot(evals, sbs_times[f_name])\n",
    "  plt.xlabel(\"Number of evaluations\")\n",
    "  plt.ylabel(\"time (s)\")\n",
    "  plt.title(f\"Time taken by SBS on {f_name}\")\n",
    "  plt.savefig(f\"fig/time/time_vs_evals_sbs_{f_name}.png\", bbox_inches=\"tight\")\n",
    "  plt.clf()"
   ]
  },
  {
   "cell_type": "code",
   "execution_count": null,
   "metadata": {},
   "outputs": [],
   "source": []
  }
 ],
 "metadata": {
  "kernelspec": {
   "display_name": "ML",
   "language": "python",
   "name": "python3"
  },
  "language_info": {
   "codemirror_mode": {
    "name": "ipython",
    "version": 3
   },
   "file_extension": ".py",
   "mimetype": "text/x-python",
   "name": "python",
   "nbconvert_exporter": "python",
   "pygments_lexer": "ipython3",
   "version": "3.11.8"
  }
 },
 "nbformat": 4,
 "nbformat_minor": 2
}
