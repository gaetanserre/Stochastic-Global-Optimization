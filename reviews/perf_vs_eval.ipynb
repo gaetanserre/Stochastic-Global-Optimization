{
 "cells": [
  {
   "cell_type": "code",
   "execution_count": 1,
   "metadata": {},
   "outputs": [],
   "source": [
    "import numpy as np\n",
    "import matplotlib.pyplot as plt\n",
    "from tqdm.auto import tqdm\n",
    "import sys\n",
    "\n",
    "sys.path.append('..')\n",
    "\n",
    "from benchmark.himmelblau import Himmelblau\n",
    "from benchmark.holder import Holder\n",
    "from benchmark.rosenbrock import Rosenbrock\n",
    "from benchmark.michalewicz import Michalewicz\n",
    "\n",
    "from optims.N_CMA_ES import CMA_ES\n",
    "from optims.WOA import WOA\n",
    "\n",
    "from optims.SBS import SBS"
   ]
  },
  {
   "cell_type": "code",
   "execution_count": 2,
   "metadata": {},
   "outputs": [],
   "source": [
    "def create_bounds(min, max, dim):\n",
    "    bounds = [(min, max) for _ in range(dim)]\n",
    "    return np.array(bounds)"
   ]
  },
  {
   "cell_type": "code",
   "execution_count": 3,
   "metadata": {},
   "outputs": [
    {
     "data": {
      "application/vnd.jupyter.widget-view+json": {
       "model_id": "a3e5cea7225d43bb821de7ef99b281c1",
       "version_major": 2,
       "version_minor": 0
      },
      "text/plain": [
       "  0%|          | 0/4 [00:00<?, ?it/s]"
      ]
     },
     "metadata": {},
     "output_type": "display_data"
    }
   ],
   "source": [
    "fs = {\n",
    "  \"Himmelblau\": [Himmelblau(), create_bounds(-4, 4, 2)],\n",
    "  \"Holder Table\": [Holder(), create_bounds(-10, 10, 2)],\n",
    "  \"Michalewicz\": [Michalewicz(), create_bounds(0, np.pi, 2)],\n",
    "  \"Rosenbrock\": [Rosenbrock(), create_bounds(-3, 3, 2)],\n",
    "}\n",
    "\n",
    "evals = np.linspace(100, 1_000_000, 10, dtype=int)\n",
    "\n",
    "cma_results = {}\n",
    "woa_results = {}\n",
    "sbs_results = {}\n",
    "\n",
    "for f_name in tqdm(fs.keys()):\n",
    "  h = fs[f_name][0]\n",
    "  bounds = fs[f_name][1]\n",
    "\n",
    "  cma_results_tmp = []\n",
    "  woa_results_tmp = []\n",
    "  sbs_results_tmp = []\n",
    "  for num_evals in evals:\n",
    "    m_0 = np.random.uniform(bounds[:, 0], bounds[:, 1])\n",
    "    cma = CMA_ES(bounds, m_0, max_evals=num_evals)\n",
    "    opt = cma.optimize(h)[0][1]\n",
    "    cma_results_tmp.append(np.abs(opt - h.min))\n",
    "\n",
    "    woa = WOA(bounds, n_gen=30, n_sol=num_evals // 30)\n",
    "    opt = woa.optimize(h)[0][1]\n",
    "    woa_results_tmp.append(np.abs(opt - h.min))\n",
    "\n",
    "    svgd_iter = 300\n",
    "    n_particles = max(num_evals // (300 * 3), 1)\n",
    "\n",
    "    sbs = SBS(\n",
    "      bounds,\n",
    "      n_particles=n_particles,\n",
    "      k_iter=[10_000],\n",
    "      svgd_iter=svgd_iter,\n",
    "      sigma=1 / n_particles**2,\n",
    "      lr=0.2\n",
    "    )\n",
    "    opt = sbs.optimize(h)[0][1]\n",
    "    sbs_results_tmp.append(np.abs(opt - h.min))\n",
    "  cma_results[f_name] = cma_results_tmp\n",
    "  woa_results[f_name] = woa_results_tmp\n",
    "  sbs_results[f_name] = sbs_results_tmp\n"
   ]
  },
  {
   "cell_type": "code",
   "execution_count": 4,
   "metadata": {},
   "outputs": [
    {
     "data": {
      "text/plain": [
       "<Figure size 640x480 with 0 Axes>"
      ]
     },
     "metadata": {},
     "output_type": "display_data"
    }
   ],
   "source": [
    "for f_name in fs.keys():\n",
    "  plt.plot(evals, cma_results[f_name], label=f\"CMA-ES\")\n",
    "  plt.plot(evals, woa_results[f_name], label=f\"WOA\")\n",
    "  plt.plot(evals, sbs_results[f_name], label=f\"SBS\")\n",
    "  plt.yscale(\"log\")\n",
    "  plt.xlabel(\"Number of evaluations\")\n",
    "  plt.ylabel(\"log distance to minimum\")\n",
    "  plt.legend()\n",
    "  plt.title(f\"Convergence of optimization algorithms on {f_name}\")\n",
    "  plt.savefig(f\"fig/perf_vs_evals_{f_name}.png\", bbox_inches=\"tight\")\n",
    "  plt.clf()"
   ]
  },
  {
   "cell_type": "code",
   "execution_count": 5,
   "metadata": {},
   "outputs": [
    {
     "data": {
      "application/vnd.jupyter.widget-view+json": {
       "model_id": "808d0f318dfd4ac19c685ca54e741474",
       "version_major": 2,
       "version_minor": 0
      },
      "text/plain": [
       "  0%|          | 0/4 [00:00<?, ?it/s]"
      ]
     },
     "metadata": {},
     "output_type": "display_data"
    }
   ],
   "source": [
    "ns_particles = np.linspace(10, 2000, 10, dtype=int)\n",
    "\n",
    "sbs_results_particles = {}\n",
    "\n",
    "for f_name in tqdm(fs.keys()):\n",
    "  h = fs[f_name][0]\n",
    "  bounds = fs[f_name][1]\n",
    "  sbs_results_particles_tmp = []\n",
    "\n",
    "  for n_particles in ns_particles:\n",
    "    sbs = SBS(\n",
    "      bounds,\n",
    "      n_particles=n_particles,\n",
    "      k_iter=[10_000],\n",
    "      svgd_iter=300,\n",
    "      sigma=1 / n_particles**2,\n",
    "      lr=0.2\n",
    "    )\n",
    "    opt = sbs.optimize(h)[0][1]\n",
    "    sbs_results_particles_tmp.append(np.abs(opt - h.min))\n",
    "  sbs_results_particles[f_name] = sbs_results_particles_tmp"
   ]
  },
  {
   "cell_type": "code",
   "execution_count": 6,
   "metadata": {},
   "outputs": [
    {
     "data": {
      "text/plain": [
       "<Figure size 640x480 with 0 Axes>"
      ]
     },
     "metadata": {},
     "output_type": "display_data"
    }
   ],
   "source": [
    "for f_name in fs.keys():\n",
    "  plt.plot(ns_particles, sbs_results_particles[f_name])\n",
    "  plt.xlabel(\"$\\kappa$\")\n",
    "  plt.ylabel(\"log distance to minimum\")\n",
    "  plt.yscale(\"log\")\n",
    "  plt.title(f\"Perf vs. Particles on {f_name}\")\n",
    "  plt.savefig(f\"fig/perf_vs_particles_{f_name}.png\", bbox_inches=\"tight\")\n",
    "  plt.clf()"
   ]
  },
  {
   "cell_type": "code",
   "execution_count": 7,
   "metadata": {},
   "outputs": [
    {
     "data": {
      "application/vnd.jupyter.widget-view+json": {
       "model_id": "b332e2548fb84e1496e18dd1798f3f19",
       "version_major": 2,
       "version_minor": 0
      },
      "text/plain": [
       "  0%|          | 0/4 [00:00<?, ?it/s]"
      ]
     },
     "metadata": {},
     "output_type": "display_data"
    }
   ],
   "source": [
    "ks = np.linspace(1, 10_000, 20, dtype=int)\n",
    "\n",
    "sbs_results_k = {}\n",
    "\n",
    "for f_name in tqdm(fs.keys()):\n",
    "  h = fs[f_name][0]\n",
    "  bounds = fs[f_name][1]\n",
    "  sbs_results_k_tmp = []\n",
    "\n",
    "  for k in ks:\n",
    "    sbs = SBS(\n",
    "      bounds,\n",
    "      n_particles=300,\n",
    "      k_iter=[k],\n",
    "      svgd_iter=300,\n",
    "      sigma=1 / 300**2,\n",
    "      lr=0.2\n",
    "    )\n",
    "    opt = sbs.optimize(h)[0][1]\n",
    "    sbs_results_k_tmp.append(np.abs(opt - h.min))\n",
    "  sbs_results_k[f_name] = sbs_results_k_tmp"
   ]
  },
  {
   "cell_type": "code",
   "execution_count": 8,
   "metadata": {},
   "outputs": [
    {
     "data": {
      "text/plain": [
       "<Figure size 640x480 with 0 Axes>"
      ]
     },
     "metadata": {},
     "output_type": "display_data"
    }
   ],
   "source": [
    "for f_name in fs.keys():\n",
    "  plt.plot(ks, sbs_results_k[f_name])\n",
    "  plt.xlabel(\"$\\kappa$\")\n",
    "  plt.ylabel(\"log distance to minimum\")\n",
    "  plt.yscale(\"log\")\n",
    "  plt.title(f\"Perf vs. $\\kappa$ on {f_name}\")\n",
    "  plt.savefig(f\"fig/perf_vs_k_{f_name}.png\", bbox_inches=\"tight\")\n",
    "  plt.clf()"
   ]
  },
  {
   "cell_type": "code",
   "execution_count": null,
   "metadata": {},
   "outputs": [],
   "source": []
  }
 ],
 "metadata": {
  "kernelspec": {
   "display_name": "ML",
   "language": "python",
   "name": "python3"
  },
  "language_info": {
   "codemirror_mode": {
    "name": "ipython",
    "version": 3
   },
   "file_extension": ".py",
   "mimetype": "text/x-python",
   "name": "python",
   "nbconvert_exporter": "python",
   "pygments_lexer": "ipython3",
   "version": "3.11.5"
  }
 },
 "nbformat": 4,
 "nbformat_minor": 2
}
